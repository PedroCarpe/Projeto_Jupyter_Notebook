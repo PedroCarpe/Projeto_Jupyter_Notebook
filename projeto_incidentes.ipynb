{
  "nbformat": 4,
  "nbformat_minor": 0,
  "metadata": {
    "colab": {
      "provenance": [],
      "authorship_tag": "ABX9TyPbazmES736l6CQY4110N6n",
      "include_colab_link": true
    },
    "kernelspec": {
      "name": "python3",
      "display_name": "Python 3"
    },
    "language_info": {
      "name": "python"
    }
  },
  "cells": [
    {
      "cell_type": "markdown",
      "metadata": {
        "id": "view-in-github",
        "colab_type": "text"
      },
      "source": [
        "<a href=\"https://colab.research.google.com/github/PedroCarpe/Projeto_Jupyter_Notebook/blob/main/projeto_incidentes.ipynb\" target=\"_parent\"><img src=\"https://colab.research.google.com/assets/colab-badge.svg\" alt=\"Open In Colab\"/></a>"
      ]
    },
    {
      "cell_type": "code",
      "execution_count": 3,
      "metadata": {
        "id": "rWZ6fYxdWO5X"
      },
      "outputs": [],
      "source": [
        "import pandas as pd"
      ]
    },
    {
      "cell_type": "code",
      "source": [
        "df = pd.read_csv('/content/sample_data/incident.csv')\n"
      ],
      "metadata": {
        "id": "es_JocvPYTF9"
      },
      "execution_count": 8,
      "outputs": []
    },
    {
      "cell_type": "markdown",
      "source": [],
      "metadata": {
        "id": "bCvUBGJSm_6S"
      }
    },
    {
      "cell_type": "markdown",
      "source": [
        "#Perguntas de Negócio:\n",
        "#Em quais anos ocorreram incidentes?\n",
        "#Qual o ano que ocorreu menos incidentes?\n",
        "#Qual o ano que ocorreu mais incidentes?\n",
        "#Qual o número de incidentes, para cada ano?"
      ],
      "metadata": {
        "id": "RmcDvWqYmzaX"
      }
    },
    {
      "cell_type": "code",
      "source": [
        "#print(len(df))\n",
        "todos_os_anos = []\n",
        "anos_unitarios = []\n",
        "qtd_incidente_ano = []\n",
        "\n",
        "#print(df.loc[registros][1][0:4])\n",
        "\n",
        "for registros in range(len(df)):\n",
        "  todos_os_anos.append(df.loc[registros][1][0:4])\n",
        "  if df.loc[registros][1][0:4] not in anos_unitarios:\n",
        "    anos_unitarios.append(df.loc[registros][1][0:4])\n",
        "\n",
        "\n",
        "#print(f'Incidentes em 2016: {ano_2016}')\n",
        "print(f'Anos contabilizados: {len(anos_unitarios)}')\n",
        "\n",
        "anos_unitarios.sort()\n",
        "todos_os_anos.sort()\n",
        "\n",
        "\n",
        "for ano in anos_unitarios:\n",
        "  qtd_incidente_ano.append(todos_os_anos.count(ano))\n",
        "\n",
        "print(f'Anos: {anos_unitarios}')\n",
        "print(f'Todos os Anos: {todos_os_anos}')\n",
        "print(f'Número de Incidentes por Ano: {qtd_incidente_ano}')\n",
        "\n",
        "\n",
        "#Perguntas de Negócio:\n",
        "#Em quais anos ocorreram incidentes?\n",
        "#Qual o ano que ocorreu menos incidentes?\n",
        "#Qual o ano que ocorreu mais incidentes?\n",
        "#Qual o número de incidentes, para cada ano?\n",
        "\n"
      ],
      "metadata": {
        "colab": {
          "base_uri": "https://localhost:8080/"
        },
        "id": "V15tTy9NZPnA",
        "outputId": "3686c6ee-9045-4049-f86f-975e9be16a2a"
      },
      "execution_count": 16,
      "outputs": [
        {
          "output_type": "stream",
          "name": "stdout",
          "text": [
            "Anos contabilizados: 7\n",
            "Anos: ['2015', '2016', '2018', '2019', '2020', '2021', '2023']\n",
            "Todos os Anos: ['2015', '2015', '2015', '2015', '2016', '2016', '2016', '2016', '2018', '2018', '2018', '2018', '2018', '2018', '2018', '2018', '2019', '2019', '2020', '2021', '2023', '2023', '2023', '2023', '2023', '2023', '2023', '2023', '2023', '2023', '2023', '2023', '2023', '2023', '2023', '2023', '2023', '2023', '2023', '2023', '2023', '2023', '2023', '2023', '2023', '2023', '2023', '2023', '2023', '2023', '2023', '2023', '2023', '2023', '2023', '2023', '2023', '2023', '2023', '2023', '2023', '2023', '2023', '2023', '2023', '2023', '2023']\n",
            "Número de Incidentes por Ano: [4, 4, 8, 2, 1, 1, 47]\n"
          ]
        }
      ]
    }
  ]
}