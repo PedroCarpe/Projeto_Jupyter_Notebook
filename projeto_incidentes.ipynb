{
  "nbformat": 4,
  "nbformat_minor": 0,
  "metadata": {
    "colab": {
      "provenance": [],
      "authorship_tag": "ABX9TyNOulrllN6NKSIkwrA/aHjb",
      "include_colab_link": true
    },
    "kernelspec": {
      "name": "python3",
      "display_name": "Python 3"
    },
    "language_info": {
      "name": "python"
    }
  },
  "cells": [
    {
      "cell_type": "markdown",
      "metadata": {
        "id": "view-in-github",
        "colab_type": "text"
      },
      "source": [
        "<a href=\"https://colab.research.google.com/github/PedroCarpe/Projeto_Jupyter_Notebook/blob/main/projeto_incidentes.ipynb\" target=\"_parent\"><img src=\"https://colab.research.google.com/assets/colab-badge.svg\" alt=\"Open In Colab\"/></a>"
      ]
    },
    {
      "cell_type": "code",
      "execution_count": 15,
      "metadata": {
        "id": "rWZ6fYxdWO5X"
      },
      "outputs": [],
      "source": [
        "import pandas as pd\n",
        "from matplotlib import pyplot as plt"
      ]
    },
    {
      "cell_type": "code",
      "source": [
        "df = pd.read_csv('/content/arquivos_csv/incident.csv')"
      ],
      "metadata": {
        "id": "es_JocvPYTF9"
      },
      "execution_count": 21,
      "outputs": []
    },
    {
      "cell_type": "markdown",
      "source": [],
      "metadata": {
        "id": "bCvUBGJSm_6S"
      }
    },
    {
      "cell_type": "markdown",
      "source": [
        "#Perguntas de Negócio:\n",
        "#Em quais anos ocorreram incidentes?\n",
        "#Qual o ano que ocorreu menos incidentes?\n",
        "#Qual o ano que ocorreu mais incidentes?\n",
        "#Qual o número de incidentes, para cada ano?"
      ],
      "metadata": {
        "id": "RmcDvWqYmzaX"
      }
    },
    {
      "cell_type": "code",
      "source": [
        "#Análise dos Anos\n",
        "\n",
        "todos_os_anos = []\n",
        "anos_unitarios = []\n",
        "qtd_incidente_ano = []\n",
        "\n",
        "#print(df.loc[registros][1][0:4])\n",
        "\n",
        "for registros in range(len(df)):\n",
        "  ano = df.loc[registros][1][0:4]\n",
        "  todos_os_anos.append(ano)\n",
        "  if ano not in anos_unitarios:\n",
        "    anos_unitarios.append(ano)\n",
        "\n",
        "\n",
        "anos_unitarios.sort()\n",
        "todos_os_anos.sort()\n",
        "\n",
        "\n",
        "for ano in anos_unitarios:\n",
        "  qtd_incidente_ano.append(todos_os_anos.count(ano))\n",
        "\n",
        "#print(f'Incidentes em 2016: {ano_2016}')\n",
        "print(f'Anos contabilizados: {len(anos_unitarios)}')\n",
        "print(f'Anos: {anos_unitarios}')\n",
        "print(f'Todos os Anos: {todos_os_anos}')\n",
        "print(f'Número de Incidentes por Ano: {qtd_incidente_ano}')\n",
        "\n",
        "\n",
        "#Perguntas de Negócio:\n",
        "#Em quais anos ocorreram incidentes?\n",
        "#Qual o ano que ocorreu menos incidentes?\n",
        "#Qual o ano que ocorreu mais incidentes?\n",
        "#Qual o número de incidentes, para cada ano?\n",
        "\n"
      ],
      "metadata": {
        "colab": {
          "base_uri": "https://localhost:8080/"
        },
        "id": "V15tTy9NZPnA",
        "outputId": "ed2a5e9f-d1a4-46a9-c4b3-4ef55059d5d2"
      },
      "execution_count": 14,
      "outputs": [
        {
          "output_type": "stream",
          "name": "stdout",
          "text": [
            "Anos contabilizados: 7\n",
            "Anos: ['2015', '2016', '2018', '2019', '2020', '2021', '2023']\n",
            "Todos os Anos: ['2015', '2015', '2015', '2015', '2016', '2016', '2016', '2016', '2018', '2018', '2018', '2018', '2018', '2018', '2018', '2018', '2019', '2019', '2020', '2021', '2023', '2023', '2023', '2023', '2023', '2023', '2023', '2023', '2023', '2023', '2023', '2023', '2023', '2023', '2023', '2023', '2023', '2023', '2023', '2023', '2023', '2023', '2023', '2023', '2023', '2023', '2023', '2023', '2023', '2023', '2023', '2023', '2023', '2023', '2023', '2023', '2023', '2023', '2023', '2023', '2023', '2023', '2023', '2023', '2023', '2023', '2023']\n",
            "Número de Incidentes por Ano: [4, 4, 8, 2, 1, 1, 47]\n"
          ]
        }
      ]
    },
    {
      "cell_type": "code",
      "source": [
        "#4. Gráfico de evolução dos Incidentes por Ano\n",
        "\n",
        "anos_unitarios\n",
        "qtd_incidente_ano\n",
        "\n",
        "plt.bar(anos_unitarios,qtd_incidente_ano,align='center',alpha=0.5)\n",
        "plt.title('Incidentes por Ano',fontdict={'family':'monospace','color':'red','weight':'bold','size':16},loc='center')\n",
        "plt.xlabel('Anos')\n",
        "plt.ylabel('Qtd Incidentes')\n",
        "\n",
        "plt.show()"
      ],
      "metadata": {
        "colab": {
          "base_uri": "https://localhost:8080/",
          "height": 476
        },
        "id": "WNiNVFeS6K57",
        "outputId": "21ffb273-90b0-4381-e0e6-b75399c17555"
      },
      "execution_count": 20,
      "outputs": [
        {
          "output_type": "display_data",
          "data": {
            "text/plain": [
              "<Figure size 640x480 with 1 Axes>"
            ],
            "image/png": "[encoded data removed]"
          },
          "metadata": {}
        }
      ]
    }
  ]
}