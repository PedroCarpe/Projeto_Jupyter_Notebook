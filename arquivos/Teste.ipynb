{
 "cells": [
  {
   "cell_type": "code",
   "execution_count": 10,
   "id": "e230d559-809f-4ff6-9b42-198a714205ac",
   "metadata": {},
   "outputs": [],
   "source": [
    "# Importar bibliotecas necessárias\n",
    "import pandas as pd\n",
    "\n",
    "'Referência do projeto: https://www.youtube.com/watch?v=NOOub5Wu2UY&t=530s'\n",
    "'APF: Referencia do CSV'"
   ]
  },
  {
   "cell_type": "code",
   "execution_count": 25,
   "id": "2aa6485f-b2ff-43fb-bafc-455f2e2e13b0",
   "metadata": {},
   "outputs": [],
   "source": [
    "# Importar arquivo CSV\n",
    "df = pd.read_csv('AZUL.csv')"
   ]
  },
  {
   "cell_type": "code",
   "execution_count": 41,
   "id": "bb4a654b-5ee7-403d-ac77-153008fed0f5",
   "metadata": {},
   "outputs": [],
   "source": [
    "# Novo Dataframe com as colunas Data e Fechamento\n",
    "novo_df = df[['DATA','FECHAMENTO']].copy()\n",
    "novo_df.columns = ['Data','Fechamento']\n",
    "\n",
    "\n",
    "# Substituir as vírgulas por pontos, na coluna Fechamento\n",
    "novo_df['Fechamento'] = novo_df['Fechamento'].str.replace(',','.').astype(float)\n",
    "\n",
    "\n",
    "# Exportar o DataFrame, para um novo CSV\n",
    "#print(novo_df_azul)\n",
    "novo_df.to_csv('NOVO_AZUL.csv',index=False)"
   ]
  },
  {
   "cell_type": "code",
   "execution_count": 27,
   "id": "2550781f-6ea6-4f84-bf98-40e5d49359cf",
   "metadata": {},
   "outputs": [
    {
     "name": "stdout",
     "output_type": "stream",
     "text": [
      "Preço médio das ações: R$ 15.22\n"
     ]
    }
   ],
   "source": [
    "# Começo das Análises\n",
    "# 1.Preço médio dos papéis no período\n",
    "#APF: trazer o periodo e mostrar junto com o preco medio\n",
    "\n",
    "preco_medio = novo_df['Fechamento'].mean()\n",
    "print(f'Preço médio das ações: R$ {preco_medio:.2f}')"
   ]
  },
  {
   "cell_type": "code",
   "execution_count": 36,
   "id": "f263e58c-0d24-4a2a-b4e1-8dbd3c00e2d9",
   "metadata": {},
   "outputs": [
    {
     "name": "stdout",
     "output_type": "stream",
     "text": [
      "Preço máximo de R$: 17.80, no dia 28/11/2023\n",
      "Preço mínimo de R$: 12.55, no dia 17/01/2024\n"
     ]
    }
   ],
   "source": [
    "#2. Preços máximo e mínimo\n",
    "preco_maximo = novo_df['Fechamento'].max()\n",
    "data_maximo = novo_df.loc[novo_df['Fechamento'].idxmax(),'Data']\n",
    "\n",
    "\n",
    "preco_minimo = novo_df['Fechamento'].min()\n",
    "data_minimo = novo_df.loc[novo_df['Fechamento'].idxmin(),'Data']\n",
    "\n",
    "\n",
    "# Mostrar os valores\n",
    "print(f'Preço máximo de R$: {preco_maximo:.2f}, no dia {data_maximo}')\n",
    "print(f'Preço mínimo de R$: {preco_minimo:.2f}, no dia {data_minimo}')"
   ]
  },
  {
   "cell_type": "code",
   "execution_count": 43,
   "id": "3e10472f-ee8d-4523-af61-a665d58ae109",
   "metadata": {},
   "outputs": [
    {
     "name": "stdout",
     "output_type": "stream",
     "text": [
      "Valor total das ações no dia 48: R$ 35000.00\n",
      "O investidor teve lucro de R$: 8500.00\n"
     ]
    }
   ],
   "source": [
    "#3. Compra e Venda de ações, Lucro ou prejuízo?\n",
    "acoes_adquiridas = 2000\n",
    "data_aquisicao = novo_df.iloc[9]['Data']\n",
    "preco_aquisicao = novo_df.iloc[9]['Fechamento']\n",
    "\n",
    "\n",
    "data_venda = novo_df.iloc[47]['Data']\n",
    "preco_venda = novo_df.iloc[47]['Fechamento']\n",
    "\n",
    "\n",
    "valor_investido = acoes_adquiridas * preco_aquisicao\n",
    "valor_venda = acoes_adquiridas * preco_venda\n",
    "\n",
    "\n",
    "lucro_prejuizo = valor_venda - valor_investido\n",
    "\n",
    "print(f'Valor total das ações no dia 48: R$ {valor_venda:.2f}')\n",
    "print(f'O investidor teve {\"lucro\" if lucro_prejuizo > 0 else \"prejuizo\"} de R$: {abs(lucro_prejuizo):.2f}')\n",
    "#APF: colocar preço das ações na compra e na venda"
   ]
  },
  {
   "cell_type": "code",
   "execution_count": null,
   "id": "b13316b4-0a19-4250-8659-d1a921dc1465",
   "metadata": {},
   "outputs": [],
   "source": []
  }
 ],
 "metadata": {
  "kernelspec": {
   "display_name": "Python 3 (ipykernel)",
   "language": "python",
   "name": "python3"
  },
  "language_info": {
   "codemirror_mode": {
    "name": "ipython",
    "version": 3
   },
   "file_extension": ".py",
   "mimetype": "text/x-python",
   "name": "python",
   "nbconvert_exporter": "python",
   "pygments_lexer": "ipython3",
   "version": "3.8.10"
  }
 },
 "nbformat": 4,
 "nbformat_minor": 5
}
