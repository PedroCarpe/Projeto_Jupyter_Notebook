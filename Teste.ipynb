{
 "cells": [
  {
   "cell_type": "code",
   "execution_count": 10,
   "id": "e230d559-809f-4ff6-9b42-198a714205ac",
   "metadata": {},
   "outputs": [],
   "source": [
    "#Importar bibliotecas necessárias\n",
    "import pandas as pd\n",
    "\n",
    "'Referência do projeto: https://www.youtube.com/watch?v=NOOub5Wu2UY&t=530s'"
   ]
  },
  {
   "cell_type": "code",
   "execution_count": 13,
   "id": "2aa6485f-b2ff-43fb-bafc-455f2e2e13b0",
   "metadata": {},
   "outputs": [],
   "source": [
    "#Importar arquivo CSV\n",
    "df_azul = pd.read_csv('AZUL.csv')\n",
    "\n",
    "#print(type(azul))"
   ]
  },
  {
   "cell_type": "code",
   "execution_count": 19,
   "id": "bb4a654b-5ee7-403d-ac77-153008fed0f5",
   "metadata": {},
   "outputs": [
    {
     "name": "stdout",
     "output_type": "stream",
     "text": [
      "          Data Fechamento\n",
      "0   02/02/2024      13,73\n",
      "1   01/02/2024      13,25\n",
      "2   31/01/2024      13,40\n",
      "3   30/01/2024      13,20\n",
      "4   29/01/2024      13,84\n",
      "5   26/01/2024      14,27\n",
      "6   25/01/2024      14,07\n",
      "7   24/01/2024      13,27\n",
      "8   23/01/2024      13,53\n",
      "9   22/01/2024      13,25\n",
      "10  19/01/2024      13,11\n",
      "11  18/01/2024      12,62\n",
      "12  17/01/2024      12,55\n",
      "13  16/01/2024      12,92\n",
      "14  15/01/2024      13,64\n",
      "15  12/01/2024      13,97\n",
      "16  11/01/2024      14,22\n",
      "17  10/01/2024      14,69\n",
      "18  09/01/2024      14,82\n",
      "19  08/01/2024      14,89\n",
      "20  05/01/2024      13,83\n",
      "21  04/01/2024      13,84\n",
      "22  03/01/2024      14,21\n",
      "23  02/01/2024      14,70\n",
      "24  28/12/2023      16,01\n",
      "25  27/12/2023      16,57\n",
      "26  26/12/2023      16,26\n",
      "27  22/12/2023      16,30\n",
      "28  21/12/2023      16,41\n",
      "29  20/12/2023      15,84\n",
      "30  19/12/2023      16,27\n",
      "31  18/12/2023      15,91\n",
      "32  15/12/2023      15,90\n",
      "33  14/12/2023      16,81\n",
      "34  13/12/2023      16,84\n",
      "35  12/12/2023      15,83\n",
      "36  11/12/2023      15,99\n",
      "37  08/12/2023      16,12\n",
      "38  07/12/2023      16,85\n",
      "39  06/12/2023      16,30\n",
      "40  05/12/2023      15,90\n",
      "41  04/12/2023      16,02\n",
      "42  01/12/2023      17,01\n",
      "43  30/11/2023      16,89\n",
      "44  29/11/2023      17,44\n",
      "45  28/11/2023      17,80\n",
      "46  27/11/2023      17,63\n",
      "47  24/11/2023      17,50\n",
      "48  23/11/2023      17,21\n",
      "49  22/11/2023      17,40\n"
     ]
    }
   ],
   "source": [
    "#Dataframe com as colunas Data e Fechamento\n",
    "novo_df_azul = df_azul[['DATA','FECHAMENTO']].copy()\n",
    "novo_df_azul.columns = ['Data','Fechamento']\n",
    "\n",
    "print(novo_df_azul)\n",
    "\n",
    "#Substituir as vírgulas por pontos, na coluna Fechamento\n",
    "\n",
    "\n",
    "\n"
   ]
  },
  {
   "cell_type": "code",
   "execution_count": null,
   "id": "2550781f-6ea6-4f84-bf98-40e5d49359cf",
   "metadata": {},
   "outputs": [],
   "source": []
  }
 ],
 "metadata": {
  "kernelspec": {
   "display_name": "Python 3 (ipykernel)",
   "language": "python",
   "name": "python3"
  },
  "language_info": {
   "codemirror_mode": {
    "name": "ipython",
    "version": 3
   },
   "file_extension": ".py",
   "mimetype": "text/x-python",
   "name": "python",
   "nbconvert_exporter": "python",
   "pygments_lexer": "ipython3",
   "version": "3.8.10"
  }
 },
 "nbformat": 4,
 "nbformat_minor": 5
}
